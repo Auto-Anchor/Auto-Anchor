{
 "cells": [
  {
   "cell_type": "code",
   "execution_count": 10,
   "metadata": {},
   "outputs": [],
   "source": [
    "import os,re,subprocess\n",
    "from typing import Optional\n",
    "import boto3\n",
    "from botocore.exceptions import NoCredentialsError, PartialCredentialsError\n",
    "from openai import OpenAI\n",
    "from dotenv import load_dotenv\n",
    "from templates import *\n",
    "import xml.etree.ElementTree as ET\n",
    "import json\n",
    "import subprocess\n",
    "from pathlib import Path\n",
    "load_dotenv()\n",
    "from e2e.encrypt_local import *\n",
    "from cryptography.fernet import Fernet\n",
    "import json\n",
    "from constants import * \n"
   ]
  },
  {
   "cell_type": "code",
   "execution_count": 12,
   "metadata": {},
   "outputs": [],
   "source": [
    "\n",
    "class AWSCLI:\n",
    "    def __init__(self, region_name=\"us-east-1\"):\n",
    "        \"\"\"\n",
    "        Initialize the AWSChecker class with a specific region.\n",
    "        \"\"\"\n",
    "        self.region_name = region_name\n",
    "        try:\n",
    "            self.ec2_client = boto3.client(\"ec2\", region_name=self.region_name)\n",
    "        except (NoCredentialsError, PartialCredentialsError) as e:\n",
    "            print(f\"Error with AWS credentials: {e}\")\n",
    "            raise\n",
    "    \n",
    "    def list_keypairs(self):\n",
    "        \"\"\"\n",
    "        List all key pairs in the region.\n",
    "        \"\"\"\n",
    "        try:\n",
    "            response = self.ec2_client.describe_key_pairs()\n",
    "            key_pairs = response.get(\"KeyPairs\", [])\n",
    "            return [{\"KeyName\": kp[\"KeyName\"], \"KeyFingerprint\": kp[\"KeyFingerprint\"]} for kp in key_pairs]\n",
    "        except self.ec2_client.exceptions.ClientError as e:\n",
    "            print(f\"Error fetching key pairs: {e}\")\n",
    "            return []\n",
    "\n",
    "    \n",
    "    def check_region(self):\n",
    "        \"\"\"\n",
    "        Verify the current region and list available regions.\n",
    "        \"\"\"\n",
    "        ec2 = boto3.client(\"ec2\")\n",
    "        response = ec2.describe_regions()\n",
    "        available_regions = [region[\"RegionName\"] for region in response[\"Regions\"]]\n",
    "        is_region_valid = self.region_name in available_regions\n",
    "        return {\n",
    "            \"current_region\": self.region_name,\n",
    "            \"is_valid\": is_region_valid,\n",
    "            \"available_regions\": available_regions\n",
    "        }\n",
    "    \n",
    "    def check_vpc(self):\n",
    "        \"\"\"\n",
    "        List all VPCs in the region.\n",
    "        \"\"\"\n",
    "        response = self.ec2_client.describe_vpcs()\n",
    "        vpcs = response.get(\"Vpcs\", [])\n",
    "        return [{\"VpcId\": vpc[\"VpcId\"], \"CidrBlock\": vpc[\"CidrBlock\"]} for vpc in vpcs]\n",
    "    \n",
    "    def check_subnets(self):\n",
    "        \"\"\"\n",
    "        List all subnets in the region.\n",
    "        \"\"\"\n",
    "        response = self.ec2_client.describe_subnets()\n",
    "        subnets = response.get(\"Subnets\", [])\n",
    "        return [{\"SubnetId\": subnet[\"SubnetId\"], \"VpcId\": subnet[\"VpcId\"], \"CidrBlock\": subnet[\"CidrBlock\"]} for subnet in subnets]\n",
    "    \n",
    "    def check_security_groups(self):\n",
    "        \"\"\"\n",
    "        List all security groups in the region.\n",
    "        \"\"\"\n",
    "        response = self.ec2_client.describe_security_groups()\n",
    "        security_groups = response.get(\"SecurityGroups\", [])\n",
    "        return [{\"GroupId\": sg[\"GroupId\"], \"GroupName\": sg[\"GroupName\"], \"Description\": sg[\"Description\"]} for sg in security_groups]\n",
    "\n",
    "    def list_running_instances(self):\n",
    "        \"\"\"\n",
    "        List all running EC2 instances with their instance ID, state, and IP addresses.\n",
    "        \"\"\"\n",
    "        try:\n",
    "            response = self.ec2_client.describe_instances(\n",
    "                Filters=[{\"Name\": \"instance-state-name\", \"Values\": [\"running\"]}]\n",
    "            )\n",
    "            instances_info = []\n",
    "            for reservation in response.get(\"Reservations\", []):\n",
    "                for instance in reservation.get(\"Instances\", []):\n",
    "                    instance_info = {\n",
    "                        \"InstanceId\": instance.get(\"InstanceId\"),\n",
    "                        \"InstanceType\": instance.get(\"InstanceType\"),\n",
    "                        \"PrivateIpAddress\": instance.get(\"PrivateIpAddress\"),\n",
    "                        \"PublicIpAddress\": instance.get(\"PublicIpAddress\"),\n",
    "                        \"State\": instance.get(\"State\", {}).get(\"Name\"),\n",
    "                        \"Tags\": instance.get(\"Tags\", [])\n",
    "                    }\n",
    "                    instances_info.append(instance_info)\n",
    "            return instances_info\n",
    "        except self.ec2_client.exceptions.ClientError as e:\n",
    "            print(f\"Error fetching instances: {e}\")\n",
    "            return []"
   ]
  },
  {
   "cell_type": "code",
   "execution_count": 13,
   "metadata": {},
   "outputs": [],
   "source": [
    "x = AWSCLI()\n",
    "\n"
   ]
  },
  {
   "cell_type": "code",
   "execution_count": 14,
   "metadata": {},
   "outputs": [
    {
     "data": {
      "text/plain": [
       "[{'InstanceId': 'i-08e11f4664ac337ab',\n",
       "  'InstanceType': 't3.large',\n",
       "  'PrivateIpAddress': '172.31.30.197',\n",
       "  'PublicIpAddress': '54.221.6.27',\n",
       "  'State': 'running',\n",
       "  'Tags': [{'Key': 'Name', 'Value': 'Jenkins-auto-anchor-v32'}]}]"
      ]
     },
     "execution_count": 14,
     "metadata": {},
     "output_type": "execute_result"
    }
   ],
   "source": [
    "x.list_running_instances()"
   ]
  }
 ],
 "metadata": {
  "kernelspec": {
   "display_name": ".venv",
   "language": "python",
   "name": "python3"
  },
  "language_info": {
   "codemirror_mode": {
    "name": "ipython",
    "version": 3
   },
   "file_extension": ".py",
   "mimetype": "text/x-python",
   "name": "python",
   "nbconvert_exporter": "python",
   "pygments_lexer": "ipython3",
   "version": "3.13.1"
  }
 },
 "nbformat": 4,
 "nbformat_minor": 2
}
